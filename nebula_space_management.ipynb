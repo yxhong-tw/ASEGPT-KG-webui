{
 "cells": [
  {
   "cell_type": "markdown",
   "metadata": {},
   "source": [
    "#### Install the required packages for NebulaGraph management"
   ]
  },
  {
   "cell_type": "code",
   "execution_count": null,
   "metadata": {},
   "outputs": [],
   "source": [
    "%pip install ipython-ngql"
   ]
  },
  {
   "cell_type": "markdown",
   "metadata": {},
   "source": [
    "#### Connect to the Nebula Graph (Local)\n"
   ]
  },
  {
   "cell_type": "code",
   "execution_count": null,
   "metadata": {},
   "outputs": [],
   "source": [
    "%reload_ext ngql\n",
    "connection_string = '--address 127.0.0.1 --port 9669 --user root --password nebula'\n",
    "%ngql {connection_string}"
   ]
  },
  {
   "cell_type": "markdown",
   "metadata": {},
   "source": [
    "#### Create a new graph space\n"
   ]
  },
  {
   "cell_type": "code",
   "execution_count": null,
   "metadata": {},
   "outputs": [],
   "source": [
    "# Please change the <space_name> to your own space name\n",
    "%ngql CREATE SPACE IF NOT EXISTS <space_name>(vid_type=FIXED_STRING(512), partition_num=10, replica_factor=1);\n",
    "\n",
    "%ngql USE asegptkg_rag_silicon;\n",
    "%ngql CREATE TAG IF NOT EXISTS entity(name string);\n",
    "%ngql CREATE EDGE IF NOT EXISTS relationship(relationship string);\n",
    "\n",
    "%ngql CREATE TAG INDEX IF NOT EXISTS entity_index ON entity(name(256));"
   ]
  },
  {
   "cell_type": "markdown",
   "metadata": {},
   "source": [
    "#### Deletes the specified graph space\n"
   ]
  },
  {
   "cell_type": "code",
   "execution_count": null,
   "metadata": {},
   "outputs": [],
   "source": [
    "# Please change the <space_name> to your own space name\n",
    "%ngql DROP SPACE IF EXISTS <space_name>;"
   ]
  }
 ],
 "metadata": {
  "kernelspec": {
   "display_name": "asegpt-kg",
   "language": "python",
   "name": "python3"
  },
  "language_info": {
   "codemirror_mode": {
    "name": "ipython",
    "version": 3
   },
   "file_extension": ".py",
   "mimetype": "text/x-python",
   "name": "python",
   "nbconvert_exporter": "python",
   "pygments_lexer": "ipython3",
   "version": "3.10.14"
  }
 },
 "nbformat": 4,
 "nbformat_minor": 2
}
